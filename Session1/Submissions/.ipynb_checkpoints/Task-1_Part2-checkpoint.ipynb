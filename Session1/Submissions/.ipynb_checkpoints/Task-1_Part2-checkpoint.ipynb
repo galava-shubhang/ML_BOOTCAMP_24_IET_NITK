{
 "cells": [
  {
   "cell_type": "markdown",
   "metadata": {},
   "source": [
    "# 🧑‍🏫 Task 1 Part 2: Build Your Own Logistic Regression Model for Sentiment Analysis\n",
    "In this exercise, you will build a **logistic regression model** from scratch to perform sentiment analysis.\n",
    "\n",
    "**Objective:** Implement all key components of an ML pipeline (except for data handling).\n",
    "\n",
    "**Allowed Libraries:** `pandas`, `numpy`\n",
    "\n",
    "**Not Allowed:** Any pre-built ML algorithms or functions like `LogisticRegression` from `sklearn`.\n",
    "\n",
    "Follow the instructions step-by-step and answer the questions!"
   ]
  },
  {
   "cell_type": "markdown",
   "metadata": {},
   "source": [
    "## Step 1: Load the Data\n",
    "**Task:** Use `pandas` to load the dataset from a file named `IMDB_reviews.csv`.\n",
    "\n",
    "> **Hint:** Use `pd.read_csv()` to load the file and display the first 5 rows.\n",
    "\n",
    "**Question:** What are the key features and the target variable in this dataset?"
   ]
  },
  {
   "cell_type": "code",
   "execution_count": 5,
   "metadata": {},
   "outputs": [
    {
     "name": "stdout",
     "output_type": "stream",
     "text": [
      "First 5 rows of the dataset:\n",
      "                                              review sentiment\n",
      "0  One of the other reviewers has mentioned that ...  positive\n",
      "1  A wonderful little production. <br /><br />The...  positive\n",
      "2  I thought this was a wonderful way to spend ti...  positive\n",
      "3  Basically there's a family where a little boy ...  negative\n",
      "4  Petter Mattei's \"Love in the Time of Money\" is...  positive\n"
     ]
    }
   ],
   "source": [
    "# Load the dataset and display the first few rows\n",
    "import pandas as pd\n",
    "\n",
    "# Load the dataset\n",
    "df = pd.read_csv('IMDB_Dataset.csv')  \n",
    "\n",
    "# Display the first 5 rows of the dataset\n",
    "print(\"First 5 rows of the dataset:\")\n",
    "print(df.head())\n",
    "\n",
    "# Answer: Key var --> review & sentiment"
   ]
  },
  {
   "cell_type": "markdown",
   "metadata": {},
   "source": [
    "## Step 3: Tokenization and Text Cleaning\n",
    "**Task:** Implement your own function to:\n",
    "1. Convert all text to lowercase.\n",
    "2. Remove punctuation and special characters.\n",
    "3. Split the text into words (tokenization).\n",
    "\n",
    "> **Hint:** Use Python string methods and list comprehensions.\n",
    "\n",
    "**Question:** Why is tokenization important for text-based models?"
   ]
  },
  {
   "cell_type": "code",
   "execution_count": 18,
   "metadata": {},
   "outputs": [
    {
     "name": "stdout",
     "output_type": "stream",
     "text": [
      "Sample of preprocessed reviews:\n",
      "\n",
      "Original: One of the other reviewers has mentioned that after watching just 1 Oz episode you'll be hooked. They are right, as this is exactly what happened with me.<br /><br />The first thing that struck me about Oz was its brutality and unflinching scenes of violence, which set in right from the word GO. Trust me, this is not a show for the faint hearted or timid. This show pulls no punches with regards to drugs, sex or violence. Its is hardcore, in the classic use of the word.<br /><br />It is called OZ as that is the nickname given to the Oswald Maximum Security State Penitentary. It focuses mainly on Emerald City, an experimental section of the prison where all the cells have glass fronts and face inwards, so privacy is not high on the agenda. Em City is home to many..Aryans, Muslims, gangstas, Latinos, Christians, Italians, Irish and more....so scuffles, death stares, dodgy dealings and shady agreements are never far away.<br /><br />I would say the main appeal of the show is due to the fact that it goes where other shows wouldn't dare. Forget pretty pictures painted for mainstream audiences, forget charm, forget romance...OZ doesn't mess around. The first episode I ever saw struck me as so nasty it was surreal, I couldn't say I was ready for it, but as I watched more, I developed a taste for Oz, and got accustomed to the high levels of graphic violence. Not just violence, but injustice (crooked guards who'll be sold out for a nickel, inmates who'll kill on order and get away with it, well mannered, middle class inmates being turned into prison bitches due to their lack of street skills or prison experience) Watching Oz, you may become comfortable with what is uncomfortable viewing....thats if you can get in touch with your darker side.\n",
      "Preprocessed: ['one', 'of', 'the', 'other', 'reviewers', 'has', 'mentioned', 'that', 'after', 'watching', 'just', '1', 'oz', 'episode', 'youll', 'be', 'hooked', 'they', 'are', 'right', 'as', 'this', 'is', 'exactly', 'what', 'happened', 'with', 'mebr', 'br', 'the', 'first', 'thing', 'that', 'struck', 'me', 'about', 'oz', 'was', 'its', 'brutality', 'and', 'unflinching', 'scenes', 'of', 'violence', 'which', 'set', 'in', 'right', 'from', 'the', 'word', 'go', 'trust', 'me', 'this', 'is', 'not', 'a', 'show', 'for', 'the', 'faint', 'hearted', 'or', 'timid', 'this', 'show', 'pulls', 'no', 'punches', 'with', 'regards', 'to', 'drugs', 'sex', 'or', 'violence', 'its', 'is', 'hardcore', 'in', 'the', 'classic', 'use', 'of', 'the', 'wordbr', 'br', 'it', 'is', 'called', 'oz', 'as', 'that', 'is', 'the', 'nickname', 'given', 'to', 'the', 'oswald', 'maximum', 'security', 'state', 'penitentary', 'it', 'focuses', 'mainly', 'on', 'emerald', 'city', 'an', 'experimental', 'section', 'of', 'the', 'prison', 'where', 'all', 'the', 'cells', 'have', 'glass', 'fronts', 'and', 'face', 'inwards', 'so', 'privacy', 'is', 'not', 'high', 'on', 'the', 'agenda', 'em', 'city', 'is', 'home', 'to', 'manyaryans', 'muslims', 'gangstas', 'latinos', 'christians', 'italians', 'irish', 'and', 'moreso', 'scuffles', 'death', 'stares', 'dodgy', 'dealings', 'and', 'shady', 'agreements', 'are', 'never', 'far', 'awaybr', 'br', 'i', 'would', 'say', 'the', 'main', 'appeal', 'of', 'the', 'show', 'is', 'due', 'to', 'the', 'fact', 'that', 'it', 'goes', 'where', 'other', 'shows', 'wouldnt', 'dare', 'forget', 'pretty', 'pictures', 'painted', 'for', 'mainstream', 'audiences', 'forget', 'charm', 'forget', 'romanceoz', 'doesnt', 'mess', 'around', 'the', 'first', 'episode', 'i', 'ever', 'saw', 'struck', 'me', 'as', 'so', 'nasty', 'it', 'was', 'surreal', 'i', 'couldnt', 'say', 'i', 'was', 'ready', 'for', 'it', 'but', 'as', 'i', 'watched', 'more', 'i', 'developed', 'a', 'taste', 'for', 'oz', 'and', 'got', 'accustomed', 'to', 'the', 'high', 'levels', 'of', 'graphic', 'violence', 'not', 'just', 'violence', 'but', 'injustice', 'crooked', 'guards', 'wholl', 'be', 'sold', 'out', 'for', 'a', 'nickel', 'inmates', 'wholl', 'kill', 'on', 'order', 'and', 'get', 'away', 'with', 'it', 'well', 'mannered', 'middle', 'class', 'inmates', 'being', 'turned', 'into', 'prison', 'bitches', 'due', 'to', 'their', 'lack', 'of', 'street', 'skills', 'or', 'prison', 'experience', 'watching', 'oz', 'you', 'may', 'become', 'comfortable', 'with', 'what', 'is', 'uncomfortable', 'viewingthats', 'if', 'you', 'can', 'get', 'in', 'touch', 'with', 'your', 'darker', 'side']\n",
      "\n",
      "Original: A wonderful little production. <br /><br />The filming technique is very unassuming- very old-time-BBC fashion and gives a comforting, and sometimes discomforting, sense of realism to the entire piece. <br /><br />The actors are extremely well chosen- Michael Sheen not only \"has got all the polari\" but he has all the voices down pat too! You can truly see the seamless editing guided by the references to Williams' diary entries, not only is it well worth the watching but it is a terrificly written and performed piece. A masterful production about one of the great master's of comedy and his life. <br /><br />The realism really comes home with the little things: the fantasy of the guard which, rather than use the traditional 'dream' techniques remains solid then disappears. It plays on our knowledge and our senses, particularly with the scenes concerning Orton and Halliwell and the sets (particularly of their flat with Halliwell's murals decorating every surface) are terribly well done.\n",
      "Preprocessed: ['a', 'wonderful', 'little', 'production', 'br', 'br', 'the', 'filming', 'technique', 'is', 'very', 'unassuming', 'very', 'oldtimebbc', 'fashion', 'and', 'gives', 'a', 'comforting', 'and', 'sometimes', 'discomforting', 'sense', 'of', 'realism', 'to', 'the', 'entire', 'piece', 'br', 'br', 'the', 'actors', 'are', 'extremely', 'well', 'chosen', 'michael', 'sheen', 'not', 'only', 'has', 'got', 'all', 'the', 'polari', 'but', 'he', 'has', 'all', 'the', 'voices', 'down', 'pat', 'too', 'you', 'can', 'truly', 'see', 'the', 'seamless', 'editing', 'guided', 'by', 'the', 'references', 'to', 'williams', 'diary', 'entries', 'not', 'only', 'is', 'it', 'well', 'worth', 'the', 'watching', 'but', 'it', 'is', 'a', 'terrificly', 'written', 'and', 'performed', 'piece', 'a', 'masterful', 'production', 'about', 'one', 'of', 'the', 'great', 'masters', 'of', 'comedy', 'and', 'his', 'life', 'br', 'br', 'the', 'realism', 'really', 'comes', 'home', 'with', 'the', 'little', 'things', 'the', 'fantasy', 'of', 'the', 'guard', 'which', 'rather', 'than', 'use', 'the', 'traditional', 'dream', 'techniques', 'remains', 'solid', 'then', 'disappears', 'it', 'plays', 'on', 'our', 'knowledge', 'and', 'our', 'senses', 'particularly', 'with', 'the', 'scenes', 'concerning', 'orton', 'and', 'halliwell', 'and', 'the', 'sets', 'particularly', 'of', 'their', 'flat', 'with', 'halliwells', 'murals', 'decorating', 'every', 'surface', 'are', 'terribly', 'well', 'done']\n",
      "\n",
      "Original: I thought this was a wonderful way to spend time on a too hot summer weekend, sitting in the air conditioned theater and watching a light-hearted comedy. The plot is simplistic, but the dialogue is witty and the characters are likable (even the well bread suspected serial killer). While some may be disappointed when they realize this is not Match Point 2: Risk Addiction, I thought it was proof that Woody Allen is still fully in control of the style many of us have grown to love.<br /><br />This was the most I'd laughed at one of Woody's comedies in years (dare I say a decade?). While I've never been impressed with Scarlet Johanson, in this she managed to tone down her \"sexy\" image and jumped right into a average, but spirited young woman.<br /><br />This may not be the crown jewel of his career, but it was wittier than \"Devil Wears Prada\" and more interesting than \"Superman\" a great comedy to go see with friends.\n",
      "Preprocessed: ['i', 'thought', 'this', 'was', 'a', 'wonderful', 'way', 'to', 'spend', 'time', 'on', 'a', 'too', 'hot', 'summer', 'weekend', 'sitting', 'in', 'the', 'air', 'conditioned', 'theater', 'and', 'watching', 'a', 'lighthearted', 'comedy', 'the', 'plot', 'is', 'simplistic', 'but', 'the', 'dialogue', 'is', 'witty', 'and', 'the', 'characters', 'are', 'likable', 'even', 'the', 'well', 'bread', 'suspected', 'serial', 'killer', 'while', 'some', 'may', 'be', 'disappointed', 'when', 'they', 'realize', 'this', 'is', 'not', 'match', 'point', '2', 'risk', 'addiction', 'i', 'thought', 'it', 'was', 'proof', 'that', 'woody', 'allen', 'is', 'still', 'fully', 'in', 'control', 'of', 'the', 'style', 'many', 'of', 'us', 'have', 'grown', 'to', 'lovebr', 'br', 'this', 'was', 'the', 'most', 'id', 'laughed', 'at', 'one', 'of', 'woodys', 'comedies', 'in', 'years', 'dare', 'i', 'say', 'a', 'decade', 'while', 'ive', 'never', 'been', 'impressed', 'with', 'scarlet', 'johanson', 'in', 'this', 'she', 'managed', 'to', 'tone', 'down', 'her', 'sexy', 'image', 'and', 'jumped', 'right', 'into', 'a', 'average', 'but', 'spirited', 'young', 'womanbr', 'br', 'this', 'may', 'not', 'be', 'the', 'crown', 'jewel', 'of', 'his', 'career', 'but', 'it', 'was', 'wittier', 'than', 'devil', 'wears', 'prada', 'and', 'more', 'interesting', 'than', 'superman', 'a', 'great', 'comedy', 'to', 'go', 'see', 'with', 'friends']\n",
      "\n",
      "Original: Basically there's a family where a little boy (Jake) thinks there's a zombie in his closet & his parents are fighting all the time.<br /><br />This movie is slower than a soap opera... and suddenly, Jake decides to become Rambo and kill the zombie.<br /><br />OK, first of all when you're going to make a film you must Decide if its a thriller or a drama! As a drama the movie is watchable. Parents are divorcing & arguing like in real life. And then we have Jake with his closet which totally ruins all the film! I expected to see a BOOGEYMAN similar movie, and instead i watched a drama with some meaningless thriller spots.<br /><br />3 out of 10 just for the well playing parents & descent dialogs. As for the shots with Jake: just ignore them.\n",
      "Preprocessed: ['basically', 'theres', 'a', 'family', 'where', 'a', 'little', 'boy', 'jake', 'thinks', 'theres', 'a', 'zombie', 'in', 'his', 'closet', 'his', 'parents', 'are', 'fighting', 'all', 'the', 'timebr', 'br', 'this', 'movie', 'is', 'slower', 'than', 'a', 'soap', 'opera', 'and', 'suddenly', 'jake', 'decides', 'to', 'become', 'rambo', 'and', 'kill', 'the', 'zombiebr', 'br', 'ok', 'first', 'of', 'all', 'when', 'youre', 'going', 'to', 'make', 'a', 'film', 'you', 'must', 'decide', 'if', 'its', 'a', 'thriller', 'or', 'a', 'drama', 'as', 'a', 'drama', 'the', 'movie', 'is', 'watchable', 'parents', 'are', 'divorcing', 'arguing', 'like', 'in', 'real', 'life', 'and', 'then', 'we', 'have', 'jake', 'with', 'his', 'closet', 'which', 'totally', 'ruins', 'all', 'the', 'film', 'i', 'expected', 'to', 'see', 'a', 'boogeyman', 'similar', 'movie', 'and', 'instead', 'i', 'watched', 'a', 'drama', 'with', 'some', 'meaningless', 'thriller', 'spotsbr', 'br', '3', 'out', 'of', '10', 'just', 'for', 'the', 'well', 'playing', 'parents', 'descent', 'dialogs', 'as', 'for', 'the', 'shots', 'with', 'jake', 'just', 'ignore', 'them']\n",
      "\n",
      "Original: Petter Mattei's \"Love in the Time of Money\" is a visually stunning film to watch. Mr. Mattei offers us a vivid portrait about human relations. This is a movie that seems to be telling us what money, power and success do to people in the different situations we encounter. <br /><br />This being a variation on the Arthur Schnitzler's play about the same theme, the director transfers the action to the present time New York where all these different characters meet and connect. Each one is connected in one way, or another to the next person, but no one seems to know the previous point of contact. Stylishly, the film has a sophisticated luxurious look. We are taken to see how these people live and the world they live in their own habitat.<br /><br />The only thing one gets out of all these souls in the picture is the different stages of loneliness each one inhabits. A big city is not exactly the best place in which human relations find sincere fulfillment, as one discerns is the case with most of the people we encounter.<br /><br />The acting is good under Mr. Mattei's direction. Steve Buscemi, Rosario Dawson, Carol Kane, Michael Imperioli, Adrian Grenier, and the rest of the talented cast, make these characters come alive.<br /><br />We wish Mr. Mattei good luck and await anxiously for his next work.\n",
      "Preprocessed: ['petter', 'matteis', 'love', 'in', 'the', 'time', 'of', 'money', 'is', 'a', 'visually', 'stunning', 'film', 'to', 'watch', 'mr', 'mattei', 'offers', 'us', 'a', 'vivid', 'portrait', 'about', 'human', 'relations', 'this', 'is', 'a', 'movie', 'that', 'seems', 'to', 'be', 'telling', 'us', 'what', 'money', 'power', 'and', 'success', 'do', 'to', 'people', 'in', 'the', 'different', 'situations', 'we', 'encounter', 'br', 'br', 'this', 'being', 'a', 'variation', 'on', 'the', 'arthur', 'schnitzlers', 'play', 'about', 'the', 'same', 'theme', 'the', 'director', 'transfers', 'the', 'action', 'to', 'the', 'present', 'time', 'new', 'york', 'where', 'all', 'these', 'different', 'characters', 'meet', 'and', 'connect', 'each', 'one', 'is', 'connected', 'in', 'one', 'way', 'or', 'another', 'to', 'the', 'next', 'person', 'but', 'no', 'one', 'seems', 'to', 'know', 'the', 'previous', 'point', 'of', 'contact', 'stylishly', 'the', 'film', 'has', 'a', 'sophisticated', 'luxurious', 'look', 'we', 'are', 'taken', 'to', 'see', 'how', 'these', 'people', 'live', 'and', 'the', 'world', 'they', 'live', 'in', 'their', 'own', 'habitatbr', 'br', 'the', 'only', 'thing', 'one', 'gets', 'out', 'of', 'all', 'these', 'souls', 'in', 'the', 'picture', 'is', 'the', 'different', 'stages', 'of', 'loneliness', 'each', 'one', 'inhabits', 'a', 'big', 'city', 'is', 'not', 'exactly', 'the', 'best', 'place', 'in', 'which', 'human', 'relations', 'find', 'sincere', 'fulfillment', 'as', 'one', 'discerns', 'is', 'the', 'case', 'with', 'most', 'of', 'the', 'people', 'we', 'encounterbr', 'br', 'the', 'acting', 'is', 'good', 'under', 'mr', 'matteis', 'direction', 'steve', 'buscemi', 'rosario', 'dawson', 'carol', 'kane', 'michael', 'imperioli', 'adrian', 'grenier', 'and', 'the', 'rest', 'of', 'the', 'talented', 'cast', 'make', 'these', 'characters', 'come', 'alivebr', 'br', 'we', 'wish', 'mr', 'mattei', 'good', 'luck', 'and', 'await', 'anxiously', 'for', 'his', 'next', 'work']\n"
     ]
    }
   ],
   "source": [
    "import pandas as pd\n",
    "import string\n",
    "\n",
    "def preprocess_text(text):\n",
    "    \"\"\"\n",
    "    Preprocess text by converting to lowercase, removing punctuation,\n",
    "    and tokenizing into words.\n",
    "    \n",
    "    Args:\n",
    "        text (str): Input text string\n",
    "        \n",
    "    Returns:\n",
    "        list: List of preprocessed tokens\n",
    "    \"\"\"\n",
    "    # Convert to lowercase\n",
    "    text = text.lower()\n",
    "    \n",
    "    # Remove punctuation\n",
    "    text = text.translate(str.maketrans(\"\", \"\", string.punctuation))\n",
    "    \n",
    "    # Split into words (tokenization)\n",
    "    tokens = text.split()\n",
    "    \n",
    "    return tokens\n",
    "\n",
    "# Apply preprocessing to each review\n",
    "df['preprocessed_tokens'] = df['review'].apply(preprocess_text)\n",
    "\n",
    "# Display a sample of original and preprocessed text\n",
    "print(\"Sample of preprocessed reviews:\")\n",
    "for original, tokens in zip(df['review'].head(), df['preprocessed_tokens'].head()):\n",
    "    print(\"\\nOriginal:\", original)\n",
    "    print(\"Preprocessed:\", tokens)\n",
    "\n",
    "#Tokenization is important for text-based models for Standardization, vocabulary building, feature extracting, pattern recognition, etc."
   ]
  },
  {
   "cell_type": "markdown",
   "metadata": {},
   "source": [
    "## Step 4: Create a Vocabulary\n",
    "**Task:** Create a **vocabulary** (a list of unique words) from the tokenized dataset.\n",
    "\n",
    "> **Hint:** Use a set to store unique words, then convert it to a list.\n",
    "\n",
    "**Question:** How does vocabulary size affect model performance?"
   ]
  },
  {
   "cell_type": "code",
   "execution_count": 22,
   "metadata": {},
   "outputs": [
    {
     "name": "stdout",
     "output_type": "stream",
     "text": [
      "Vocabulary size: 181685\n",
      "First 10 words: ['\\x08\\x08\\x08\\x08a', '\\x10own', '0', '00', '000', '0000000000001', '00000001', '000001', '00000110', '0001']\n"
     ]
    }
   ],
   "source": [
    "# Your code here\n",
    "vocabulary = sorted(set(word for tokens in df['preprocessed_tokens'] for word in tokens))\n",
    "print(f\"Vocabulary size: {len(vocabulary)}\\nFirst 10 words: {vocabulary[:10]}\")\n",
    "\n",
    "#A larger vocabulary increases model complexity and coverage but requires more data to train effectively and may lead to sparsity issues."
   ]
  },
  {
   "cell_type": "markdown",
   "metadata": {},
   "source": [
    "## Step 5: Implement Word Count\n",
    "**Task:** Calculate and store the number of times each word appears in a particular review for all reviews"
   ]
  },
  {
   "cell_type": "code",
   "execution_count": 28,
   "metadata": {},
   "outputs": [
    {
     "name": "stdout",
     "output_type": "stream",
     "text": [
      "\n",
      "First review text:\n",
      "One of the other reviewers has mentioned that after watching just 1 Oz episode you'll be hooked. They are right, as this is exactly what happened with me.<br /><br />The first thing that struck me about Oz was its brutality and unflinching scenes of violence, which set in right from the word GO. Trust me, this is not a show for the faint hearted or timid. This show pulls no punches with regards to drugs, sex or violence. Its is hardcore, in the classic use of the word.<br /><br />It is called OZ as that is the nickname given to the Oswald Maximum Security State Penitentary. It focuses mainly on Emerald City, an experimental section of the prison where all the cells have glass fronts and face inwards, so privacy is not high on the agenda. Em City is home to many..Aryans, Muslims, gangstas, Latinos, Christians, Italians, Irish and more....so scuffles, death stares, dodgy dealings and shady agreements are never far away.<br /><br />I would say the main appeal of the show is due to the fact that it goes where other shows wouldn't dare. Forget pretty pictures painted for mainstream audiences, forget charm, forget romance...OZ doesn't mess around. The first episode I ever saw struck me as so nasty it was surreal, I couldn't say I was ready for it, but as I watched more, I developed a taste for Oz, and got accustomed to the high levels of graphic violence. Not just violence, but injustice (crooked guards who'll be sold out for a nickel, inmates who'll kill on order and get away with it, well mannered, middle class inmates being turned into prison bitches due to their lack of street skills or prison experience) Watching Oz, you may become comfortable with what is uncomfortable viewing....thats if you can get in touch with your darker side.\n",
      "\n",
      "Word counts for first review:\n",
      "{'one': 1, 'of': 7, 'the': 15, 'other': 2, 'reviewers': 1, 'has': 1, 'mentioned': 1, 'that': 4, 'after': 1, 'watching': 2, 'just': 2, '1': 1, 'oz': 3, 'episode': 2, \"you'll\": 1, 'be': 2, 'hooked.': 1, 'they': 1, 'are': 2, 'right,': 1, 'as': 4, 'this': 3, 'is': 9, 'exactly': 1, 'what': 2, 'happened': 1, 'with': 5, 'me.<br': 1, '/><br': 3, '/>the': 1, 'first': 2, 'thing': 1, 'struck': 2, 'me': 2, 'about': 1, 'was': 3, 'its': 2, 'brutality': 1, 'and': 6, 'unflinching': 1, 'scenes': 1, 'violence,': 2, 'which': 1, 'set': 1, 'in': 3, 'right': 1, 'from': 1, 'word': 1, 'go.': 1, 'trust': 1, 'me,': 1, 'not': 3, 'a': 3, 'show': 3, 'for': 5, 'faint': 1, 'hearted': 1, 'or': 3, 'timid.': 1, 'pulls': 1, 'no': 1, 'punches': 1, 'regards': 1, 'to': 6, 'drugs,': 1, 'sex': 1, 'violence.': 2, 'hardcore,': 1, 'classic': 1, 'use': 1, 'word.<br': 1, '/>it': 1, 'called': 1, 'nickname': 1, 'given': 1, 'oswald': 1, 'maximum': 1, 'security': 1, 'state': 1, 'penitentary.': 1, 'it': 3, 'focuses': 1, 'mainly': 1, 'on': 3, 'emerald': 1, 'city,': 1, 'an': 1, 'experimental': 1, 'section': 1, 'prison': 3, 'where': 2, 'all': 1, 'cells': 1, 'have': 1, 'glass': 1, 'fronts': 1, 'face': 1, 'inwards,': 1, 'so': 2, 'privacy': 1, 'high': 2, 'agenda.': 1, 'em': 1, 'city': 1, 'home': 1, 'many..aryans,': 1, 'muslims,': 1, 'gangstas,': 1, 'latinos,': 1, 'christians,': 1, 'italians,': 1, 'irish': 1, 'more....so': 1, 'scuffles,': 1, 'death': 1, 'stares,': 1, 'dodgy': 1, 'dealings': 1, 'shady': 1, 'agreements': 1, 'never': 1, 'far': 1, 'away.<br': 1, '/>i': 1, 'would': 1, 'say': 2, 'main': 1, 'appeal': 1, 'due': 2, 'fact': 1, 'goes': 1, 'shows': 1, \"wouldn't\": 1, 'dare.': 1, 'forget': 3, 'pretty': 1, 'pictures': 1, 'painted': 1, 'mainstream': 1, 'audiences,': 1, 'charm,': 1, 'romance...oz': 1, \"doesn't\": 1, 'mess': 1, 'around.': 1, 'i': 5, 'ever': 1, 'saw': 1, 'nasty': 1, 'surreal,': 1, \"couldn't\": 1, 'ready': 1, 'it,': 2, 'but': 2, 'watched': 1, 'more,': 1, 'developed': 1, 'taste': 1, 'oz,': 2, 'got': 1, 'accustomed': 1, 'levels': 1, 'graphic': 1, 'injustice': 1, '(crooked': 1, 'guards': 1, \"who'll\": 2, 'sold': 1, 'out': 1, 'nickel,': 1, 'inmates': 2, 'kill': 1, 'order': 1, 'get': 2, 'away': 1, 'well': 1, 'mannered,': 1, 'middle': 1, 'class': 1, 'being': 1, 'turned': 1, 'into': 1, 'bitches': 1, 'their': 1, 'lack': 1, 'street': 1, 'skills': 1, 'experience)': 1, 'you': 2, 'may': 1, 'become': 1, 'comfortable': 1, 'uncomfortable': 1, 'viewing....thats': 1, 'if': 1, 'can': 1, 'touch': 1, 'your': 1, 'darker': 1, 'side.': 1}\n",
      "\n",
      "Top 10 most frequent words across all reviews:\n",
      "{'the': 638861, 'a': 316615, 'and': 313637, 'of': 286661, 'to': 264573, 'is': 204876, 'in': 179807, 'i': 141587, 'this': 138483, 'that': 130140}\n"
     ]
    }
   ],
   "source": [
    "# Your code here\n",
    "# Example: Write functions to calculate word counts\n",
    "from collections import Counter\n",
    "\n",
    "# Calculate word counts for each review\n",
    "df['word_counts'] = df['review'].apply(lambda x: dict(Counter(str(x).lower().split())))\n",
    "\n",
    "# Display results for the first review\n",
    "print(\"\\nFirst review text:\")\n",
    "print(df['review'].iloc[0])\n",
    "print(\"\\nWord counts for first review:\")\n",
    "print(df['word_counts'].iloc[0])\n",
    "\n",
    "# Calculate total word counts across all reviews\n",
    "total_counts = Counter()\n",
    "for counts in df['word_counts']:\n",
    "   total_counts.update(counts)\n",
    "\n",
    "print(\"\\nTop 10 most frequent words across all reviews:\")\n",
    "print(dict(total_counts.most_common(10)))"
   ]
  },
  {
   "cell_type": "markdown",
   "metadata": {},
   "source": [
    "## Step 6: Train-Test Split\n",
    "**Task:** Split the data into **80% training** and **20% testing** sets.\n",
    "\n",
    "> **Hint:** Use `numpy` or list slicing to split the data manually.\n",
    "\n",
    "**Question:** Why do we need to split the data for training and testing?"
   ]
  },
  {
   "cell_type": "code",
   "execution_count": 32,
   "metadata": {},
   "outputs": [
    {
     "name": "stdout",
     "output_type": "stream",
     "text": [
      "Training set size: 40000, Testing set size: 10000\n"
     ]
    }
   ],
   "source": [
    "# Your code here\n",
    "\n",
    "# Calculate split index\n",
    "split_idx = int(len(df) * 0.8)\n",
    "\n",
    "# Split the data\n",
    "train_data = df[:split_idx]\n",
    "test_data = df[split_idx:]\n",
    "\n",
    "print(f\"Training set size: {len(train_data)}, Testing set size: {len(test_data)}\")\n",
    "\n",
    "#We split data to evaluate model performance on new examples, cos we must ensure it generalizes \n",
    "#well and doesn't just memorize training data. "
   ]
  },
  {
   "cell_type": "markdown",
   "metadata": {},
   "source": [
    "## Step 7: Building the Logistic Regression Model (Divided Steps)"
   ]
  },
  {
   "cell_type": "markdown",
   "metadata": {},
   "source": [
    "### Part 1: The Prediction functions\n",
    "The **prediction function** returns the predicted value of the data point using the weights and the bias. It uses the sigmoid function to convert the prediction into a value in the range of 0 to 1.\n",
    "\n",
    "**Task:** Implement the sigmoid and prediction functions"
   ]
  },
  {
   "cell_type": "code",
   "execution_count": 34,
   "metadata": {},
   "outputs": [
    {
     "name": "stdout",
     "output_type": "stream",
     "text": [
      "Test prediction: 0.8021838885585817\n",
      "Sigmoid of 0: 0.5\n",
      "Sigmoid of 2: 0.8807970779778823\n",
      "Sigmoid of -2: 0.11920292202211755\n"
     ]
    }
   ],
   "source": [
    "import numpy as np\n",
    "\n",
    "def sigmoid(x):\n",
    "    \"\"\"\n",
    "    Compute sigmoid function: f(x) = 1 / (1 + e^(-x))\n",
    "    \"\"\"\n",
    "    return 1 / (1 + np.exp(-x))\n",
    "\n",
    "def lr_prediction(weights, bias, features):\n",
    "    \"\"\"\n",
    "    Calculate prediction using logistic regression\n",
    "    weights: array of feature weights\n",
    "    bias: scalar bias term\n",
    "    features: input feature vector\n",
    "    \"\"\"\n",
    "    z = np.dot(features, weights) + bias\n",
    "    return sigmoid(z)\n",
    "\n",
    "# Test the functions\n",
    "test_weights = np.array([0.1, -0.2, 0.3])\n",
    "test_features = np.array([2, 1, 3])\n",
    "test_bias = 0.5\n",
    "\n",
    "prediction = lr_prediction(test_weights, test_bias, test_features)\n",
    "print(f\"Test prediction: {prediction}\")\n",
    "\n",
    "# Test sigmoid function separately\n",
    "print(f\"Sigmoid of 0: {sigmoid(0)}\") # Should be 0.5\n",
    "print(f\"Sigmoid of 2: {sigmoid(2)}\") # Should be ~0.88\n",
    "print(f\"Sigmoid of -2: {sigmoid(-2)}\") # Should be ~0.12"
   ]
  },
  {
   "cell_type": "markdown",
   "metadata": {},
   "source": [
    "### Part 2: Implementing the Error functions\n",
    "**Task:** Use the gradient update rules to train the logistic regression model over multiple epochs."
   ]
  },
  {
   "cell_type": "code",
   "execution_count": 36,
   "metadata": {},
   "outputs": [
    {
     "name": "stdout",
     "output_type": "stream",
     "text": [
      "Single example log loss: 0.2204\n",
      "Average log loss: 0.4859\n"
     ]
    }
   ],
   "source": [
    "import numpy as np\n",
    "\n",
    "def log_loss(weights, bias, features, label):\n",
    "   \"\"\"\n",
    "   Calculate log loss for a single data point\n",
    "   \n",
    "   Args:\n",
    "   weights: feature weights\n",
    "   bias: bias term\n",
    "   features: input feature vector\n",
    "   label: true label (0 or 1)\n",
    "   \n",
    "   Returns:\n",
    "   float: log loss for this example\n",
    "   \"\"\"\n",
    "   prediction = lr_prediction(weights, bias, features)\n",
    "   # Add small epsilon to avoid log(0)\n",
    "   epsilon = 1e-15\n",
    "   return -label * np.log(prediction + epsilon) - (1 - label) * np.log(1 - prediction + epsilon)\n",
    "\n",
    "def total_log_loss(weights, bias, X, y):\n",
    "   \"\"\"\n",
    "   Calculate average log loss for entire dataset\n",
    "   \n",
    "   Args:\n",
    "   weights: feature weights\n",
    "   bias: bias term\n",
    "   X: feature matrix (n_samples x n_features)\n",
    "   y: true labels array\n",
    "   \n",
    "   Returns:\n",
    "   float: average log loss across all examples\n",
    "   \"\"\"\n",
    "   total_loss = 0\n",
    "   for features, label in zip(X, y):\n",
    "       total_loss += log_loss(weights, bias, features, label)\n",
    "   return total_loss / len(y)\n",
    "\n",
    "# Test the functions\n",
    "test_weights = np.array([0.1, -0.2, 0.3])\n",
    "test_features = np.array([2, 1, 3])\n",
    "test_bias = 0.5\n",
    "test_label = 1\n",
    "\n",
    "# Test single example loss\n",
    "single_loss = log_loss(test_weights, test_bias, test_features, test_label)\n",
    "print(f\"Single example log loss: {single_loss:.4f}\")\n",
    "\n",
    "# Test total loss\n",
    "test_X = np.array([[2, 1, 3], [1, 2, 1], [3, 1, 2]])\n",
    "test_y = np.array([1, 0, 1])\n",
    "total_loss = total_log_loss(test_weights, test_bias, test_X, test_y)\n",
    "print(f\"Average log loss: {total_loss:.4f}\")"
   ]
  },
  {
   "cell_type": "markdown",
   "metadata": {},
   "source": [
    "### Part 1: Update Weights\n",
    "The **Update_Weights** adjusts weights and bias based on whether points are correctly or incorrectly classified, It is a simple method of improving the model at every iteration:\n",
    "1. **Correctly classified points:** Move the line **away** from the point.\n",
    "2. **Incorrectly classified points:** Move the line **towards** the point.\n",
    "\n",
    "**Task:** Implement the gradient update function based on these rules."
   ]
  },
  {
   "cell_type": "code",
   "execution_count": null,
   "metadata": {},
   "outputs": [],
   "source": [
    "#Your Code\n",
    "def\tlr_update_weights(weights,\tbias,\tfeatures,\tlabel,\tlearning_rate\t=\t0.01):\n",
    "    return"
   ]
  },
  {
   "cell_type": "markdown",
   "metadata": {},
   "source": [
    "### Part 2: Implementing the Logistic Regression Algorithm\n",
    "**Task:** Use the function to update weights to train the logistic regression model over multiple epochs. Keep track of the total error for each epoch. You will later plot these errors."
   ]
  },
  {
   "cell_type": "code",
   "execution_count": null,
   "metadata": {},
   "outputs": [],
   "source": [
    "# Implement the logistic regression model \n",
    "def\tlr_algorithm(features,\tlabels,\tlearning_rate\t=\t0.01,\tepochs\t=\t200):\n",
    "    return"
   ]
  },
  {
   "cell_type": "markdown",
   "metadata": {},
   "source": [
    "## Step 8: Evaluate Your Model\n",
    "**Task:** Calculate the accuracy of the model. Compare the predicted labels with the actual labels.\n",
    "\n",
    "> **Hint:** Use the formula for accuracy: (Correct Predictions / Total Predictions) * 100\n",
    "\n",
    "**Question:** Which metric—accuracy, precision, or recall—is most important for sentiment analysis?"
   ]
  },
  {
   "cell_type": "code",
   "execution_count": null,
   "metadata": {},
   "outputs": [],
   "source": [
    "# Your code here\n"
   ]
  },
  {
   "cell_type": "markdown",
   "metadata": {},
   "source": [
    "## Step 8: Visualize the Errors  \n",
    "**Task:** Create a scatter plot of the total errors over the training epochs. The plot should show a gradual decrease in errors, stabilizing as the model converges."
   ]
  },
  {
   "cell_type": "code",
   "execution_count": null,
   "metadata": {},
   "outputs": [],
   "source": [
    "#Your code here"
   ]
  },
  {
   "cell_type": "markdown",
   "metadata": {},
   "source": [
    "## Step 9: Make Predictions on New Data\n",
    "**Task:** Use your trained model to predict the sentiment of the following review:\n",
    "\n",
    "> _\"The movie was absolutely fantastic and kept me hooked till the end.\"_\n",
    "\n",
    "**Question:** What challenges might arise when predicting on new data?"
   ]
  },
  {
   "cell_type": "code",
   "execution_count": null,
   "metadata": {},
   "outputs": [],
   "source": [
    "# Your code here\n"
   ]
  },
  {
   "cell_type": "markdown",
   "metadata": {},
   "source": [
    "## Step 10: Wrap-up\n",
    "1. How well did your model perform?\n",
    "2. What challenges did you face while implementing it from scratch?\n",
    "3. What improvements would you suggest for the future?"
   ]
  },
  {
   "cell_type": "markdown",
   "metadata": {},
   "source": [
    "### Notes (if any):"
   ]
  }
 ],
 "metadata": {
  "kernelspec": {
   "display_name": "Python 3 (ipykernel)",
   "language": "python",
   "name": "python3"
  },
  "language_info": {
   "codemirror_mode": {
    "name": "ipython",
    "version": 3
   },
   "file_extension": ".py",
   "mimetype": "text/x-python",
   "name": "python",
   "nbconvert_exporter": "python",
   "pygments_lexer": "ipython3",
   "version": "3.12.4"
  }
 },
 "nbformat": 4,
 "nbformat_minor": 4
}
