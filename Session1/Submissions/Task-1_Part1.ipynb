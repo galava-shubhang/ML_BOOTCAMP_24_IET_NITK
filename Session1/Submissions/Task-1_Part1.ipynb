{
 "cells": [
  {
   "cell_type": "markdown",
   "metadata": {},
   "source": [
    "# 🧑‍🏫 Task 1 Part 1: Building a Spam Classifier with Naive Bayes\n",
    "In this exercise, you'll implement a spam classifier using the **Naive Bayes algorithm** . You'll work with email data to classify messages as spam or non-spam (ham). Follow the steps below and fill in the code where indicated.\n",
    "\n",
    "**Objective:** Implement all key components of an ML pipeline (except for data handling).\n",
    "\n",
    "**Allowed Libraries:** `pandas`, `numpy`\n",
    "\n",
    "**Not Allowed:** Any pre-built ML algorithms or functions like those from `sklearn`.\n",
    "\n",
    "Follow the instructions step-by-step and answer the questions!"
   ]
  },
  {
   "cell_type": "markdown",
   "metadata": {},
   "source": [
    "## Step 1: Data Loading and Preprocessing\n",
    "First, let's load and examine our data."
   ]
  },
  {
   "cell_type": "code",
   "execution_count": 7,
   "metadata": {},
   "outputs": [],
   "source": [
    "# Load the data\n",
    "import pandas as pd\n",
    "\n",
    "# TODO: Load the 'emails.csv' file into a DataFrame called 'emails'\n",
    "emails = pd.read_csv('emails.csv')"
   ]
  },
  {
   "cell_type": "code",
   "execution_count": 9,
   "metadata": {},
   "outputs": [
    {
     "name": "stdout",
     "output_type": "stream",
     "text": [
      "                                                text  spam\n",
      "0  Subject: naturally irresistible your corporate...     1\n",
      "1  Subject: the stock trading gunslinger  fanny i...     1\n",
      "2  Subject: unbelievable new homes made easy  im ...     1\n",
      "3  Subject: 4 color printing special  request add...     1\n",
      "4  Subject: do not have money , get software cds ...     1\n"
     ]
    }
   ],
   "source": [
    "# Display the first few rows\n",
    "print(emails.head())\n",
    "\n",
    "# HINT: Use pd.read_csv() to load the data\n",
    "# HINT: The DataFrame should have 'text' and 'spam' columns"
   ]
  },
  {
   "cell_type": "code",
   "execution_count": 11,
   "metadata": {},
   "outputs": [
    {
     "name": "stdout",
     "output_type": "stream",
     "text": [
      "                                                text  spam\n",
      "0  Subject: naturally irresistible your corporate...     1\n",
      "1  Subject: the stock trading gunslinger  fanny i...     1\n",
      "2  Subject: unbelievable new homes made easy  im ...     1\n",
      "3  Subject: 4 color printing special  request add...     1\n",
      "4  Subject: do not have money , get software cds ...     1\n",
      "\n",
      "Missing values in each column:\n",
      "text    0\n",
      "spam    0\n",
      "dtype: int64\n",
      "\n",
      "Shape of data after removing missing values:\n",
      "Original shape: (5728, 2)\n",
      "New shape: (5728, 2)\n"
     ]
    },
    {
     "data": {
      "image/png": "[encoded data removed]",
      "text/plain": [
       "<Figure size 600x400 with 1 Axes>"
      ]
     },
     "metadata": {},
     "output_type": "display_data"
    },
    {
     "name": "stdout",
     "output_type": "stream",
     "text": [
      "\n",
      "Data is ready for modeling!\n",
      "Training set shape: (4582, 37441)\n",
      "Testing set shape: (1146, 37441)\n"
     ]
    }
   ],
   "source": [
    "# Check for missing values\n",
    "print(\"\\nMissing values in each column:\")\n",
    "print(emails.isnull().sum())\n",
    "\n",
    "# Remove rows with missing values\n",
    "emails_cleaned = emails.dropna()\n",
    "\n",
    "print(\"\\nShape of data after removing missing values:\")\n",
    "print(\"Original shape:\", emails.shape)\n",
    "print(\"New shape:\", emails_cleaned.shape)\n",
    "\n",
    "# Visualize the distribution of the 'spam' column\n",
    "plt.figure(figsize=(6, 4))\n",
    "emails_cleaned['spam'].value_counts().plot(kind='bar', color=['blue', 'orange'])\n",
    "plt.title(\"Spam vs. Non-Spam Emails\")\n",
    "plt.xlabel(\"Spam (1) or Not (0)\")\n",
    "plt.ylabel(\"Count\")\n",
    "plt.show()\n",
    "\n",
    "# Text tokenization: Convert the text data into a simple bag-of-words format\n",
    "def tokenize(text):\n",
    "    words = text.lower().split()  # Convert to lowercase and split by whitespace\n",
    "    return words\n",
    "\n",
    "# Build vocabulary and transform text data to bag-of-words\n",
    "def build_bow(text_data):\n",
    "    vocabulary = {}\n",
    "    bow_data = []\n",
    "    \n",
    "    for text in text_data:\n",
    "        words = tokenize(text)\n",
    "        word_counts = {}\n",
    "        \n",
    "        for word in words:\n",
    "            if word not in vocabulary:\n",
    "                vocabulary[word] = len(vocabulary)  # Assign a new index to each unique word\n",
    "            \n",
    "            word_index = vocabulary[word]\n",
    "            word_counts[word_index] = word_counts.get(word_index, 0) + 1\n",
    "        \n",
    "        bow_data.append(word_counts)  # Append the word count dictionary for each email\n",
    "    \n",
    "    return vocabulary, bow_data\n",
    "\n",
    "# Apply bag-of-words transformation\n",
    "vocabulary, bow_data = build_bow(emails_cleaned['text'])\n",
    "\n",
    "# Convert bag-of-words format to a matrix\n",
    "def bow_to_matrix(bow_data, vocab_size):\n",
    "    matrix = np.zeros((len(bow_data), vocab_size))\n",
    "    \n",
    "    for i, word_counts in enumerate(bow_data):\n",
    "        for word_index, count in word_counts.items():\n",
    "            matrix[i, word_index] = count\n",
    "            \n",
    "    return matrix\n",
    "\n",
    "# Create the feature matrix X and the target variable y\n",
    "X = bow_to_matrix(bow_data, len(vocabulary))\n",
    "y = emails_cleaned['spam'].values  # Assuming spam column is 0 (non-spam) or 1 (spam)\n",
    "\n",
    "# Manual train-test split\n",
    "def train_test_split_manual(X, y, test_size=0.2):\n",
    "    indices = list(range(len(X)))\n",
    "    random.shuffle(indices)\n",
    "    split_idx = int(len(X) * (1 - test_size))\n",
    "    \n",
    "    train_indices = indices[:split_idx]\n",
    "    test_indices = indices[split_idx:]\n",
    "    \n",
    "    X_train = X[train_indices]\n",
    "    X_test = X[test_indices]\n",
    "    y_train = y[train_indices]\n",
    "    y_test = y[test_indices]\n",
    "    \n",
    "    return X_train, X_test, y_train, y_test\n",
    "\n",
    "# Split the data\n",
    "X_train, X_test, y_train, y_test = train_test_split_manual(X, y, test_size=0.2)\n",
    "\n",
    "print(\"\\nData is ready for modeling!\")\n",
    "print(\"Training set shape:\", X_train.shape)\n",
    "print(\"Testing set shape:\", X_test.shape)\n"
   ]
  },
  {
   "cell_type": "markdown",
   "metadata": {},
   "source": [
    "## Step 2: Text Preprocessing\n",
    "We need to process each email to extract unique words."
   ]
  },
  {
   "cell_type": "code",
   "execution_count": 47,
   "metadata": {},
   "outputs": [],
   "source": [
    "def process_email(text):\n",
    "    \"\"\"\n",
    "    Convert email text to a list of unique, lowercase words\n",
    "    \n",
    "    Parameters:\n",
    "        text (str): The email text\n",
    "    \n",
    "    Returns:\n",
    "        list: List of unique words in the email\n",
    "    \"\"\"\n",
    "    # 1. Convert text to lowercase\n",
    "    text = text.lower()\n",
    "    \n",
    "    # 2. Split text into words\n",
    "    words = text.split()\n",
    "    \n",
    "    # 3. Remove duplicates by converting to a set, then back to a list\n",
    "    unique_words = list(set(words))\n",
    "    \n",
    "    return unique_words\n"
   ]
  },
  {
   "cell_type": "code",
   "execution_count": 49,
   "metadata": {},
   "outputs": [
    {
     "name": "stdout",
     "output_type": "stream",
     "text": [
      "                                                text  \\\n",
      "0  Subject: naturally irresistible your corporate...   \n",
      "1  Subject: the stock trading gunslinger  fanny i...   \n",
      "2  Subject: unbelievable new homes made easy  im ...   \n",
      "3  Subject: 4 color printing special  request add...   \n",
      "4  Subject: do not have money , get software cds ...   \n",
      "\n",
      "                                      processed_text  \n",
      "0  [much, is, reflect, unlimited, fees, ieader, d...  \n",
      "1  [and, the, hall, kansas, is, nameable, attire,...  \n",
      "2  [and, the, of, is, loan, homeowner, 169, exten...  \n",
      "3  [and, click, of, 8102, 8090, com, rd, printabl...  \n",
      "4  [the, is, do, death, be, finish, ,, ended, me,...  \n"
     ]
    }
   ],
   "source": [
    "# Apply preprocessing to all emails\n",
    "# Apply preprocessing to all emails\n",
    "emails_cleaned['processed_text'] = emails_cleaned['text'].apply(process_email)\n",
    "\n",
    "# Display the first few rows to verify\n",
    "print(emails_cleaned[['text', 'processed_text']].head())\n"
   ]
  },
  {
   "cell_type": "code",
   "execution_count": 51,
   "metadata": {},
   "outputs": [
    {
     "name": "stdout",
     "output_type": "stream",
     "text": [
      "Original email text:\n",
      " Subject: naturally irresistible your corporate identity  lt is really hard to recollect a company : the  market is full of suqgestions and the information isoverwhelminq ; but a good  catchy logo , stylish statlonery and outstanding website  will make the task much easier .  we do not promise that havinq ordered a iogo your  company will automaticaily become a world ieader : it isguite ciear that  without good products , effective business organization and practicable aim it  will be hotat nowadays market ; but we do promise that your marketing efforts  will become much more effective . here is the list of clear  benefits : creativeness : hand - made , original logos , specially done  to reflect your distinctive company image . convenience : logo and stationery  are provided in all formats ; easy - to - use content management system letsyou  change your website content and even its structure . promptness : you  will see logo drafts within three business days . affordability : your  marketing break - through shouldn ' t make gaps in your budget . 100 % satisfaction  guaranteed : we provide unlimited amount of changes with no extra fees for you to  be surethat you will love the result of this collaboration . have a look at our  portfolio _ _ _ _ _ _ _ _ _ _ _ _ _ _ _ _ _ _ _ _ _ _ _ _ _ _ _ _ _ _ _ _ _ _ _ _ _ _ _ _ _ _ _ _ _ _ _ _ _ _ _ _ not interested . . . _ _ _ _ _ _ _ _ _ _ _ _ _ _ _ _ _ _ _ _ _ _ _ _ _ _ _ _ _ _ _ _ _ _ _ _ _ _ _ _ _ _ _ _ _ _ _ _ _ _ _ _\n",
      "\n",
      "Processed email text:\n",
      " ['much', 'is', 'reflect', 'unlimited', 'fees', 'ieader', 'distinctive', 'efforts', 'for', 'but', 'affordability', 'outstanding', 'provided', 'easy', 'days', 'creativeness', 'ciear', 'your', 'full', 'content', 'corporate', 'promise', 'three', 'all', 'catchy', 'make', 'subject:', 'done', 'at', 'logo', 'hotat', 'isoverwhelminq', 'structure', 'result', 'interested', '.', 'convenience', 'products', 'havinq', 'within', 'use', 'extra', 'and', 'portfolio', 'of', 'change', 'will', 'hard', '_', 'satisfaction', 'management', 'in', 'really', 'guaranteed', 'original', 'effective', 'have', 'system', 'clear', 'a', 'budget', 'specially', 'to', 'business', 'without', 'its', '100', 'are', 'hand', '-', 'marketing', 'naturally', 'task', 't', 'gaps', 'lt', 'irresistible', 'organization', 'formats', 'image', 'become', 'break', 'love', 'automaticaily', 'information', 'our', 'that', 'even', 'drafts', 'website', 'made', 'you', 'world', 'practicable', 'market', \"'\", 'easier', 'logos', 'identity', 'through', 'here', 'more', 'shouldn', 'promptness', 'the', 'do', 'stylish', 'be', 'iogo', 'aim', '%', 'amount', 'suqgestions', 'look', ',', 'stationery', 'list', 'isguite', 'benefits', 'good', 'company', 'surethat', 'ordered', 'statlonery', 'nowadays', 'we', ';', 'recollect', 'changes', 'this', ':', 'collaboration', 'letsyou', 'see', 'it', 'with', 'not', 'provide', 'no']\n"
     ]
    }
   ],
   "source": [
    "# Test your preprocessing by testing on the first email\n",
    "# Get the first email's text\n",
    "first_email_text = emails_cleaned['text'].iloc[0]\n",
    "\n",
    "# Apply the preprocessing function to the first email\n",
    "processed_first_email = process_email(first_email_text)\n",
    "\n",
    "# Display the original and processed text\n",
    "print(\"Original email text:\\n\", first_email_text)\n",
    "print(\"\\nProcessed email text:\\n\", processed_first_email)\n"
   ]
  },
  {
   "cell_type": "markdown",
   "metadata": {},
   "source": [
    "## Step 3: Calculate Prior Probabilities\n",
    "Let's calculate the basic probability of an email being spam."
   ]
  },
  {
   "cell_type": "code",
   "execution_count": 54,
   "metadata": {},
   "outputs": [
    {
     "name": "stdout",
     "output_type": "stream",
     "text": [
      "Number of emails: 5728\n",
      "Number of spam emails: 1368\n",
      "Probability of spam: 0.2388\n"
     ]
    }
   ],
   "source": [
    "# TODO: Calculate the following:\n",
    "# 1. Total number of emails\n",
    "# 2. Number of spam emails\n",
    "# 3. Probability of spam\n",
    "\n",
    "\n",
    "num_emails = len(emails_cleaned)\n",
    "num_spam = sum(emails_cleaned['spam'])\n",
    "spam_probability =num_spam / num_emails\n",
    "\n",
    "print(f\"Number of emails: {num_emails}\")\n",
    "print(f\"Number of spam emails: {num_spam}\")\n",
    "print(f\"Probability of spam: {spam_probability:.4f}\")\n",
    "\n",
    "# HINT: Use len(emails) for total count\n",
    "# HINT: Use sum(emails['spam']) for spam count"
   ]
  },
  {
   "cell_type": "markdown",
   "metadata": {},
   "source": [
    "## Step 4: Training the Model\n",
    "Now we'll build our Naive Bayes model by counting word occurrences in spam and ham emails."
   ]
  },
  {
   "cell_type": "code",
   "execution_count": 59,
   "metadata": {},
   "outputs": [],
   "source": [
    "def train_naive_bayes(emails_data):\n",
    "    \"\"\"\n",
    "    Train a Naive Bayes model on email data\n",
    "    \n",
    "    Parameters:\n",
    "        emails_data (DataFrame): DataFrame with 'words' and 'spam' columns\n",
    "    \n",
    "    Returns:\n",
    "        dict: Dictionary with word frequencies in spam and ham emails\n",
    "    \"\"\"\n",
    "    # TODO: Create a dictionary to store word frequencies\n",
    "    # For each word, store counts of its occurrence in spam and ham emails\n",
    "    model = {}\n",
    "    \n",
    "    \n",
    "    # Separate spam and ham emails\n",
    "    spam_emails = emails_data[emails_data['spam'] == 1]\n",
    "    ham_emails = emails_data[emails_data['spam'] == 0]\n",
    "\n",
    "    # Process and count occurrences of each word in spam emails\n",
    "    for _, email in spam_emails.iterrows():\n",
    "        words = process_email(email['text'])  # Process the text directly here\n",
    "        for word in words:\n",
    "            if word not in model:\n",
    "                model[word] = {'spam': 1, 'ham': 1}  # Initialize counts with 1 (Laplace smoothing)\n",
    "            model[word]['spam'] += 1\n",
    "\n",
    "    # Process and count occurrences of each word in ham emails\n",
    "    for _, email in ham_emails.iterrows():\n",
    "        words = process_email(email['text'])  # Process the text directly here\n",
    "        for word in words:\n",
    "            if word not in model:\n",
    "                model[word] = {'spam': 1, 'ham': 1}  # Initialize counts with 1 (Laplace smoothing)\n",
    "            model[word]['ham'] += 1\n",
    "\n",
    "\n",
    "    # HINT: Initialize counts with 1 (Laplace smoothing)\n",
    "    # HINT: Structure: model[word] = {'spam': count, 'ham': count}\n",
    "\n",
    "    return model\n",
    "\n"
   ]
  },
  {
   "cell_type": "code",
   "execution_count": 61,
   "metadata": {},
   "outputs": [],
   "source": [
    "model = train_naive_bayes(emails)"
   ]
  },
  {
   "cell_type": "code",
   "execution_count": 63,
   "metadata": {},
   "outputs": [
    {
     "name": "stdout",
     "output_type": "stream",
     "text": [
      "Word: 'lottery'\n",
      "  Spam Count: 9\n",
      "  Ham Count: 1\n",
      "\n",
      "Word: 'sale'\n",
      "  Spam Count: 39\n",
      "  Ham Count: 42\n",
      "\n",
      "Word: 'meeting'\n",
      "  Spam Count: 11\n",
      "  Ham Count: 808\n",
      "\n"
     ]
    }
   ],
   "source": [
    "# Test your model with some words\n",
    "# Examples: 'lottery', 'sale', 'meeting'\n",
    "def test_word_frequencies(model, words):\n",
    "    \"\"\"\n",
    "    Test the model by printing the spam and ham frequencies of specified words\n",
    "    \n",
    "    Parameters:\n",
    "        model (dict): The trained Naive Bayes model with word frequencies\n",
    "        words (list): List of words to test\n",
    "    \"\"\"\n",
    "    for word in words:\n",
    "        if word in model:\n",
    "            spam_count = model[word]['spam']\n",
    "            ham_count = model[word]['ham']\n",
    "            print(f\"Word: '{word}'\\n  Spam Count: {spam_count}\\n  Ham Count: {ham_count}\\n\")\n",
    "        else:\n",
    "            print(f\"Word: '{word}' not found in model.\\n\")\n",
    "\n",
    "# Example words to test\n",
    "test_words = ['lottery', 'sale', 'meeting']\n",
    "\n",
    "# Test the model with these words\n",
    "test_word_frequencies(model, test_words)\n",
    "\n"
   ]
  },
  {
   "cell_type": "markdown",
   "metadata": {},
   "source": [
    "## Step 5: Implementing the Prediction Function\n",
    "Finally, let's implement the function to predict whether an email is spam."
   ]
  },
  {
   "cell_type": "code",
   "execution_count": 65,
   "metadata": {},
   "outputs": [],
   "source": [
    "def predict_naive_bayes(email_text, model, num_spam, num_ham):\n",
    "    \"\"\"\n",
    "    Predict whether an email is spam using Naive Bayes\n",
    "    \n",
    "    Parameters:\n",
    "        email_text (str): The text of the email to classify\n",
    "        model (dict): Trained Naive Bayes model\n",
    "        num_spam (int): Number of spam emails in training data\n",
    "        num_ham (int): Number of ham emails in training data\n",
    "    \n",
    "    Returns:\n",
    "        float: Probability that the email is spam\n",
    "    \"\"\"\n",
    "    # TODO: Implement the Naive Bayes prediction\n",
    "    # 1. Preprocess the email text\n",
    "    # 2. Calculate probability using the Naive Bayes formula\n",
    "\n",
    "     # Preprocess the email text\n",
    "    words = process_email(email_text)\n",
    "    \n",
    "    # Calculate prior probabilities\n",
    "    total_emails = num_spam + num_ham\n",
    "    prob_spam = num_spam / total_emails\n",
    "    prob_ham = num_ham / total_emails\n",
    "    \n",
    "    # Initialize log probabilities\n",
    "    log_prob_spam = math.log(prob_spam)\n",
    "    log_prob_ham = math.log(prob_ham)\n",
    "    \n",
    "    # Calculate likelihood for each word in the email\n",
    "    for word in words:\n",
    "        if word in model:\n",
    "            spam_count = model[word]['spam']\n",
    "            ham_count = model[word]['ham']\n",
    "            \n",
    "            # Laplace smoothing\n",
    "            total_spam_words = sum([model[w]['spam'] for w in model])\n",
    "            total_ham_words = sum([model[w]['ham'] for w in model])\n",
    "            \n",
    "            # Likelihood calculations with Laplace smoothing\n",
    "            prob_word_given_spam = (spam_count + 1) / (total_spam_words + len(model))\n",
    "            prob_word_given_ham = (ham_count + 1) / (total_ham_words + len(model))\n",
    "            \n",
    "            # Update log probabilities\n",
    "            log_prob_spam += math.log(prob_word_given_spam)\n",
    "            log_prob_ham += math.log(prob_word_given_ham)\n",
    "        else:\n",
    "            # If the word is not in the model, use Laplace smoothing\n",
    "            log_prob_spam += math.log(1 / (total_spam_words + len(model)))\n",
    "            log_prob_ham += math.log(1 / (total_ham_words + len(model)))\n",
    "\n",
    "    # Calculate the final probability of being spam\n",
    "    prob_spam_given_email = math.exp(log_prob_spam) / (math.exp(log_prob_spam) + math.exp(log_prob_ham))\n",
    "    \n",
    "    return prob_spam_given_email\n",
    "\n",
    "    # HINT: Use the log of probabilities to avoid numerical underflow\n",
    "    # HINT: Remember to handle words not in the training data\n",
    "    "
   ]
  },
  {
   "cell_type": "code",
   "execution_count": 71,
   "metadata": {},
   "outputs": [
    {
     "ename": "NameError",
     "evalue": "name 'spam' is not defined",
     "output_type": "error",
     "traceback": [
      "\u001b[1;31m---------------------------------------------------------------------------\u001b[0m",
      "\u001b[1;31mNameError\u001b[0m                                 Traceback (most recent call last)",
      "Cell \u001b[1;32mIn[71], line 9\u001b[0m\n\u001b[0;32m      2\u001b[0m test_emails \u001b[38;5;241m=\u001b[39m [\n\u001b[0;32m      3\u001b[0m     \u001b[38;5;124m\"\u001b[39m\u001b[38;5;124mlottery winner claim prize money\u001b[39m\u001b[38;5;124m\"\u001b[39m,\n\u001b[0;32m      4\u001b[0m     \u001b[38;5;124m\"\u001b[39m\u001b[38;5;124mmeeting tomorrow at 3pm\u001b[39m\u001b[38;5;124m\"\u001b[39m,\n\u001b[0;32m      5\u001b[0m     \u001b[38;5;124m\"\u001b[39m\u001b[38;5;124mbuy cheap watches online\u001b[39m\u001b[38;5;124m\"\u001b[39m\n\u001b[0;32m      6\u001b[0m ]\n\u001b[0;32m      8\u001b[0m \u001b[38;5;28;01mfor\u001b[39;00m email_text \u001b[38;5;129;01min\u001b[39;00m test_emails:\n\u001b[1;32m----> 9\u001b[0m     spam_probability \u001b[38;5;241m=\u001b[39m predict_naive_bayes(email_text, model, spam, ham)\n\u001b[0;32m     10\u001b[0m     \u001b[38;5;28mprint\u001b[39m(\u001b[38;5;124mf\u001b[39m\u001b[38;5;124m\"\u001b[39m\u001b[38;5;124mEmail: \u001b[39m\u001b[38;5;124m'\u001b[39m\u001b[38;5;132;01m{\u001b[39;00memail_text\u001b[38;5;132;01m}\u001b[39;00m\u001b[38;5;124m'\u001b[39m\u001b[38;5;124m\"\u001b[39m)\n\u001b[0;32m     11\u001b[0m     \u001b[38;5;28mprint\u001b[39m(\u001b[38;5;124mf\u001b[39m\u001b[38;5;124m\"\u001b[39m\u001b[38;5;124mProbability that the email is spam: \u001b[39m\u001b[38;5;132;01m{\u001b[39;00mspam_probability\u001b[38;5;132;01m:\u001b[39;00m\u001b[38;5;124m.4f\u001b[39m\u001b[38;5;132;01m}\u001b[39;00m\u001b[38;5;130;01m\\n\u001b[39;00m\u001b[38;5;124m\"\u001b[39m)\n",
      "\u001b[1;31mNameError\u001b[0m: name 'spam' is not defined"
     ]
    }
   ],
   "source": [
    "# Test your prediction function\n",
    "test_emails = [\n",
    "    \"lottery winner claim prize money\",\n",
    "    \"meeting tomorrow at 3pm\",\n",
    "    \"buy cheap watches online\"\n",
    "]\n",
    "\n",
    "for email_text in test_emails:\n",
    "    spam_probability = predict_naive_bayes(email_text, model, spam, ham)\n",
    "    print(f\"Email: '{email_text}'\")\n",
    "    print(f\"Probability that the email is spam: {spam_probability:.4f}\\n\")"
   ]
  },
  {
   "cell_type": "markdown",
   "metadata": {},
   "source": [
    "## Step 6: Wrap-up\n",
    "1. How well did your model perform?\n",
    "2. What challenges did you face while implementing it from scratch?\n",
    "3. What improvements would you suggest for the future?"
   ]
  },
  {
   "cell_type": "markdown",
   "metadata": {},
   "source": [
    "### Notes (if any):"
   ]
  }
 ],
 "metadata": {
  "kernelspec": {
   "display_name": "Python 3 (ipykernel)",
   "language": "python",
   "name": "python3"
  },
  "language_info": {
   "codemirror_mode": {
    "name": "ipython",
    "version": 3
   },
   "file_extension": ".py",
   "mimetype": "text/x-python",
   "name": "python",
   "nbconvert_exporter": "python",
   "pygments_lexer": "ipython3",
   "version": "3.12.4"
  }
 },
 "nbformat": 4,
 "nbformat_minor": 4
}
