{
 "cells": [
  {
   "cell_type": "markdown",
   "metadata": {},
   "source": [
    "# 🧑‍🏫 Task 1 Part 1: Building a Spam Classifier with Naive Bayes\n",
    "In this exercise, you'll implement a spam classifier using the **Naive Bayes algorithm** . You'll work with email data to classify messages as spam or non-spam (ham). Follow the steps below and fill in the code where indicated.\n",
    "\n",
    "**Objective:** Implement all key components of an ML pipeline (except for data handling).\n",
    "\n",
    "**Allowed Libraries:** `pandas`, `numpy`\n",
    "\n",
    "**Not Allowed:** Any pre-built ML algorithms or functions like those from `sklearn`.\n",
    "\n",
    "Follow the instructions step-by-step and answer the questions!"
   ]
  },
  {
   "cell_type": "markdown",
   "metadata": {},
   "source": [
    "## Step 1: Data Loading and Preprocessing\n",
    "First, let's load and examine our data."
   ]
  },
  {
   "cell_type": "code",
   "execution_count": 3,
   "metadata": {},
   "outputs": [],
   "source": [
    "# Load the data\n",
    "import pandas as pd\n",
    "\n",
    "# TODO: Load the 'emails.csv' file into a DataFrame called 'emails'\n",
    "emails = pd.read_csv('emails.csv')"
   ]
  },
  {
   "cell_type": "code",
   "execution_count": 5,
   "metadata": {},
   "outputs": [
    {
     "name": "stdout",
     "output_type": "stream",
     "text": [
      "                                                text  spam\n",
      "0  Subject: naturally irresistible your corporate...     1\n",
      "1  Subject: the stock trading gunslinger  fanny i...     1\n",
      "2  Subject: unbelievable new homes made easy  im ...     1\n",
      "3  Subject: 4 color printing special  request add...     1\n",
      "4  Subject: do not have money , get software cds ...     1\n"
     ]
    }
   ],
   "source": [
    "# Display the first few rows\n",
    "print(emails.head())\n",
    "\n",
    "# HINT: Use pd.read_csv() to load the data\n",
    "# HINT: The DataFrame should have 'text' and 'spam' columns"
   ]
  },
  {
   "cell_type": "code",
   "execution_count": 11,
   "metadata": {},
   "outputs": [
    {
     "name": "stdout",
     "output_type": "stream",
     "text": [
      "\n",
      "Missing values in each column:\n",
      "text    0\n",
      "spam    0\n",
      "dtype: int64\n",
      "\n",
      "Shape of data after removing missing values:\n",
      "Original shape: (5728, 2)\n",
      "New shape: (5728, 2)\n"
     ]
    },
    {
     "data": {
      "image/png": "[encoded data removed]",
      "text/plain": [
       "<Figure size 1000x600 with 1 Axes>"
      ]
     },
     "metadata": {},
     "output_type": "display_data"
    },
    {
     "ename": "KeyError",
     "evalue": "\"['target_column'] not found in axis\"",
     "output_type": "error",
     "traceback": [
      "\u001b[1;31m---------------------------------------------------------------------------\u001b[0m",
      "\u001b[1;31mKeyError\u001b[0m                                  Traceback (most recent call last)",
      "Cell \u001b[1;32mIn[11], line 35\u001b[0m\n\u001b[0;32m     31\u001b[0m     df_cleaned[column] \u001b[38;5;241m=\u001b[39m le\u001b[38;5;241m.\u001b[39mfit_transform(df_cleaned[column]\u001b[38;5;241m.\u001b[39mastype(\u001b[38;5;28mstr\u001b[39m))\n\u001b[0;32m     33\u001b[0m \u001b[38;5;66;03m# 7. Split the data\u001b[39;00m\n\u001b[0;32m     34\u001b[0m \u001b[38;5;66;03m# Replace 'target_column' with the name of your target column\u001b[39;00m\n\u001b[1;32m---> 35\u001b[0m X \u001b[38;5;241m=\u001b[39m df_cleaned\u001b[38;5;241m.\u001b[39mdrop(\u001b[38;5;124m'\u001b[39m\u001b[38;5;124mtarget_column\u001b[39m\u001b[38;5;124m'\u001b[39m, axis\u001b[38;5;241m=\u001b[39m\u001b[38;5;241m1\u001b[39m)  \u001b[38;5;66;03m# Features\u001b[39;00m\n\u001b[0;32m     36\u001b[0m y \u001b[38;5;241m=\u001b[39m df_cleaned[\u001b[38;5;124m'\u001b[39m\u001b[38;5;124mtarget_column\u001b[39m\u001b[38;5;124m'\u001b[39m]  \u001b[38;5;66;03m# Target variable\u001b[39;00m\n\u001b[0;32m     38\u001b[0m \u001b[38;5;66;03m# Split into training and testing sets\u001b[39;00m\n",
      "File \u001b[1;32m~\\anaconda3\\Lib\\site-packages\\pandas\\core\\frame.py:5581\u001b[0m, in \u001b[0;36mDataFrame.drop\u001b[1;34m(self, labels, axis, index, columns, level, inplace, errors)\u001b[0m\n\u001b[0;32m   5433\u001b[0m \u001b[38;5;28;01mdef\u001b[39;00m \u001b[38;5;21mdrop\u001b[39m(\n\u001b[0;32m   5434\u001b[0m     \u001b[38;5;28mself\u001b[39m,\n\u001b[0;32m   5435\u001b[0m     labels: IndexLabel \u001b[38;5;241m|\u001b[39m \u001b[38;5;28;01mNone\u001b[39;00m \u001b[38;5;241m=\u001b[39m \u001b[38;5;28;01mNone\u001b[39;00m,\n\u001b[1;32m   (...)\u001b[0m\n\u001b[0;32m   5442\u001b[0m     errors: IgnoreRaise \u001b[38;5;241m=\u001b[39m \u001b[38;5;124m\"\u001b[39m\u001b[38;5;124mraise\u001b[39m\u001b[38;5;124m\"\u001b[39m,\n\u001b[0;32m   5443\u001b[0m ) \u001b[38;5;241m-\u001b[39m\u001b[38;5;241m>\u001b[39m DataFrame \u001b[38;5;241m|\u001b[39m \u001b[38;5;28;01mNone\u001b[39;00m:\n\u001b[0;32m   5444\u001b[0m \u001b[38;5;250m    \u001b[39m\u001b[38;5;124;03m\"\"\"\u001b[39;00m\n\u001b[0;32m   5445\u001b[0m \u001b[38;5;124;03m    Drop specified labels from rows or columns.\u001b[39;00m\n\u001b[0;32m   5446\u001b[0m \n\u001b[1;32m   (...)\u001b[0m\n\u001b[0;32m   5579\u001b[0m \u001b[38;5;124;03m            weight  1.0     0.8\u001b[39;00m\n\u001b[0;32m   5580\u001b[0m \u001b[38;5;124;03m    \"\"\"\u001b[39;00m\n\u001b[1;32m-> 5581\u001b[0m     \u001b[38;5;28;01mreturn\u001b[39;00m \u001b[38;5;28msuper\u001b[39m()\u001b[38;5;241m.\u001b[39mdrop(\n\u001b[0;32m   5582\u001b[0m         labels\u001b[38;5;241m=\u001b[39mlabels,\n\u001b[0;32m   5583\u001b[0m         axis\u001b[38;5;241m=\u001b[39maxis,\n\u001b[0;32m   5584\u001b[0m         index\u001b[38;5;241m=\u001b[39mindex,\n\u001b[0;32m   5585\u001b[0m         columns\u001b[38;5;241m=\u001b[39mcolumns,\n\u001b[0;32m   5586\u001b[0m         level\u001b[38;5;241m=\u001b[39mlevel,\n\u001b[0;32m   5587\u001b[0m         inplace\u001b[38;5;241m=\u001b[39minplace,\n\u001b[0;32m   5588\u001b[0m         errors\u001b[38;5;241m=\u001b[39merrors,\n\u001b[0;32m   5589\u001b[0m     )\n",
      "File \u001b[1;32m~\\anaconda3\\Lib\\site-packages\\pandas\\core\\generic.py:4788\u001b[0m, in \u001b[0;36mNDFrame.drop\u001b[1;34m(self, labels, axis, index, columns, level, inplace, errors)\u001b[0m\n\u001b[0;32m   4786\u001b[0m \u001b[38;5;28;01mfor\u001b[39;00m axis, labels \u001b[38;5;129;01min\u001b[39;00m axes\u001b[38;5;241m.\u001b[39mitems():\n\u001b[0;32m   4787\u001b[0m     \u001b[38;5;28;01mif\u001b[39;00m labels \u001b[38;5;129;01mis\u001b[39;00m \u001b[38;5;129;01mnot\u001b[39;00m \u001b[38;5;28;01mNone\u001b[39;00m:\n\u001b[1;32m-> 4788\u001b[0m         obj \u001b[38;5;241m=\u001b[39m obj\u001b[38;5;241m.\u001b[39m_drop_axis(labels, axis, level\u001b[38;5;241m=\u001b[39mlevel, errors\u001b[38;5;241m=\u001b[39merrors)\n\u001b[0;32m   4790\u001b[0m \u001b[38;5;28;01mif\u001b[39;00m inplace:\n\u001b[0;32m   4791\u001b[0m     \u001b[38;5;28mself\u001b[39m\u001b[38;5;241m.\u001b[39m_update_inplace(obj)\n",
      "File \u001b[1;32m~\\anaconda3\\Lib\\site-packages\\pandas\\core\\generic.py:4830\u001b[0m, in \u001b[0;36mNDFrame._drop_axis\u001b[1;34m(self, labels, axis, level, errors, only_slice)\u001b[0m\n\u001b[0;32m   4828\u001b[0m         new_axis \u001b[38;5;241m=\u001b[39m axis\u001b[38;5;241m.\u001b[39mdrop(labels, level\u001b[38;5;241m=\u001b[39mlevel, errors\u001b[38;5;241m=\u001b[39merrors)\n\u001b[0;32m   4829\u001b[0m     \u001b[38;5;28;01melse\u001b[39;00m:\n\u001b[1;32m-> 4830\u001b[0m         new_axis \u001b[38;5;241m=\u001b[39m axis\u001b[38;5;241m.\u001b[39mdrop(labels, errors\u001b[38;5;241m=\u001b[39merrors)\n\u001b[0;32m   4831\u001b[0m     indexer \u001b[38;5;241m=\u001b[39m axis\u001b[38;5;241m.\u001b[39mget_indexer(new_axis)\n\u001b[0;32m   4833\u001b[0m \u001b[38;5;66;03m# Case for non-unique axis\u001b[39;00m\n\u001b[0;32m   4834\u001b[0m \u001b[38;5;28;01melse\u001b[39;00m:\n",
      "File \u001b[1;32m~\\anaconda3\\Lib\\site-packages\\pandas\\core\\indexes\\base.py:7070\u001b[0m, in \u001b[0;36mIndex.drop\u001b[1;34m(self, labels, errors)\u001b[0m\n\u001b[0;32m   7068\u001b[0m \u001b[38;5;28;01mif\u001b[39;00m mask\u001b[38;5;241m.\u001b[39many():\n\u001b[0;32m   7069\u001b[0m     \u001b[38;5;28;01mif\u001b[39;00m errors \u001b[38;5;241m!=\u001b[39m \u001b[38;5;124m\"\u001b[39m\u001b[38;5;124mignore\u001b[39m\u001b[38;5;124m\"\u001b[39m:\n\u001b[1;32m-> 7070\u001b[0m         \u001b[38;5;28;01mraise\u001b[39;00m \u001b[38;5;167;01mKeyError\u001b[39;00m(\u001b[38;5;124mf\u001b[39m\u001b[38;5;124m\"\u001b[39m\u001b[38;5;132;01m{\u001b[39;00mlabels[mask]\u001b[38;5;241m.\u001b[39mtolist()\u001b[38;5;132;01m}\u001b[39;00m\u001b[38;5;124m not found in axis\u001b[39m\u001b[38;5;124m\"\u001b[39m)\n\u001b[0;32m   7071\u001b[0m     indexer \u001b[38;5;241m=\u001b[39m indexer[\u001b[38;5;241m~\u001b[39mmask]\n\u001b[0;32m   7072\u001b[0m \u001b[38;5;28;01mreturn\u001b[39;00m \u001b[38;5;28mself\u001b[39m\u001b[38;5;241m.\u001b[39mdelete(indexer)\n",
      "\u001b[1;31mKeyError\u001b[0m: \"['target_column'] not found in axis\""
     ]
    }
   ],
   "source": [
    "#Analyse the data and remove or modify rows with missing or invalid values\n",
    "import matplotlib.pyplot as plt\n",
    "import seaborn as sns\n",
    "from sklearn.model_selection import train_test_split\n",
    "from sklearn.preprocessing import LabelEncoder\n",
    "#Check for missing values\n",
    "print(\"\\nMissing values in each column:\")\n",
    "df = emails\n",
    "print(df.isnull().sum())\n",
    "\n",
    "#Clean the data - Simple approach\n",
    "# Remove rows with missing values\n",
    "df_cleaned = df.dropna()\n",
    "\n",
    "print(\"\\nShape of data after removing missing values:\")\n",
    "print(\"Original shape:\", df.shape)\n",
    "print(\"New shape:\", df_cleaned.shape)\n",
    "\n",
    "# 5. Basic visualization - Let's look at our data\n",
    "plt.figure(figsize=(10, 6))\n",
    "for column in df_cleaned.select_dtypes(include=['int64', 'float64']).columns[:3]:  # Show first 3 numeric columns\n",
    "    plt.hist(df_cleaned[column], alpha=0.5, label=column)\n",
    "plt.legend()\n",
    "plt.title(\"Distribution of Numeric Features\")\n",
    "plt.show()\n",
    "\n",
    "# 6. Prepare data for ML\n",
    "# Convert categorical columns to numbers\n",
    "le = LabelEncoder()\n",
    "for column in df_cleaned.select_dtypes(include=['object']).columns:\n",
    "    df_cleaned[column] = le.fit_transform(df_cleaned[column].astype(str))\n",
    "\n",
    "# 7. Split the data\n",
    "# Replace 'target_column' with the name of your target column\n",
    "X = df_cleaned.drop('target_column', axis=1)  # Features\n",
    "y = df_cleaned['target_column']  # Target variable\n",
    "\n",
    "# Split into training and testing sets\n",
    "X_train, X_test, y_train, y_test = train_test_split(X, y, test_size=0.2, random_state=42)\n",
    "\n",
    "print(\"\\nData is ready for modeling!\")\n",
    "print(\"Training set shape:\", X_train.shape)\n",
    "print(\"Testing set shape:\", X_test.shape)"
   ]
  },
  {
   "cell_type": "markdown",
   "metadata": {},
   "source": [
    "## Step 2: Text Preprocessing\n",
    "We need to process each email to extract unique words."
   ]
  },
  {
   "cell_type": "code",
   "execution_count": null,
   "metadata": {},
   "outputs": [],
   "source": [
    "def process_email(text):\n",
    "    \"\"\"\n",
    "    Convert email text to a list of unique, lowercase words\n",
    "    \n",
    "    Parameters:\n",
    "        text (str): The email text\n",
    "    \n",
    "    Returns:\n",
    "        list: List of unique words in the email\n",
    "    \"\"\"\n",
    "    # TODO: Implement the preprocessing function\n",
    "    # 1. Convert text to lowercase\n",
    "    # 2. Split into words\n",
    "    # 3. Remove duplicates\n",
    "\n",
    "    # Your code here\n",
    "\n",
    "    # HINT: Use text.lower() for lowercase conversion\n",
    "    # HINT: Use split() to convert text to words\n",
    "    # HINT: Use set() to remove duplicates\n",
    "    pass"
   ]
  },
  {
   "cell_type": "code",
   "execution_count": null,
   "metadata": {},
   "outputs": [],
   "source": [
    "# Apply preprocessing to all emails\n"
   ]
  },
  {
   "cell_type": "code",
   "execution_count": null,
   "metadata": {},
   "outputs": [],
   "source": [
    "# Test your preprocessing by testing on the first email\n"
   ]
  },
  {
   "cell_type": "markdown",
   "metadata": {},
   "source": [
    "## Step 3: Calculate Prior Probabilities\n",
    "Let's calculate the basic probability of an email being spam."
   ]
  },
  {
   "cell_type": "code",
   "execution_count": null,
   "metadata": {},
   "outputs": [],
   "source": [
    "# TODO: Calculate the following:\n",
    "# 1. Total number of emails\n",
    "# 2. Number of spam emails\n",
    "# 3. Probability of spam\n",
    "\n",
    "num_emails = # Your code here\n",
    "num_spam = # Your code here\n",
    "spam_probability = # Your code here\n",
    "\n",
    "print(f\"Number of emails: {num_emails}\")\n",
    "print(f\"Number of spam emails: {num_spam}\")\n",
    "print(f\"Probability of spam: {spam_probability:.4f}\")\n",
    "\n",
    "# HINT: Use len(emails) for total count\n",
    "# HINT: Use sum(emails['spam']) for spam count"
   ]
  },
  {
   "cell_type": "markdown",
   "metadata": {},
   "source": [
    "## Step 4: Training the Model\n",
    "Now we'll build our Naive Bayes model by counting word occurrences in spam and ham emails."
   ]
  },
  {
   "cell_type": "code",
   "execution_count": null,
   "metadata": {},
   "outputs": [],
   "source": [
    "def train_naive_bayes(emails_data):\n",
    "    \"\"\"\n",
    "    Train a Naive Bayes model on email data\n",
    "    \n",
    "    Parameters:\n",
    "        emails_data (DataFrame): DataFrame with 'words' and 'spam' columns\n",
    "    \n",
    "    Returns:\n",
    "        dict: Dictionary with word frequencies in spam and ham emails\n",
    "    \"\"\"\n",
    "    # TODO: Create a dictionary to store word frequencies\n",
    "    # For each word, store counts of its occurrence in spam and ham emails\n",
    "    model = {}\n",
    "\n",
    "    # Your code here\n",
    "    # HINT: Initialize counts with 1 (Laplace smoothing)\n",
    "    # HINT: Structure: model[word] = {'spam': count, 'ham': count}\n",
    "\n",
    "    return model"
   ]
  },
  {
   "cell_type": "code",
   "execution_count": null,
   "metadata": {},
   "outputs": [],
   "source": [
    "model = train_naive_bayes(emails)"
   ]
  },
  {
   "cell_type": "code",
   "execution_count": null,
   "metadata": {},
   "outputs": [],
   "source": [
    "# Test your model with some words\n",
    "# Examples: 'lottery', 'sale', 'meeting'\n",
    "\n"
   ]
  },
  {
   "cell_type": "markdown",
   "metadata": {},
   "source": [
    "## Step 5: Implementing the Prediction Function\n",
    "Finally, let's implement the function to predict whether an email is spam."
   ]
  },
  {
   "cell_type": "code",
   "execution_count": null,
   "metadata": {},
   "outputs": [],
   "source": [
    "def predict_naive_bayes(email_text, model, num_spam, num_ham):\n",
    "    \"\"\"\n",
    "    Predict whether an email is spam using Naive Bayes\n",
    "    \n",
    "    Parameters:\n",
    "        email_text (str): The text of the email to classify\n",
    "        model (dict): Trained Naive Bayes model\n",
    "        num_spam (int): Number of spam emails in training data\n",
    "        num_ham (int): Number of ham emails in training data\n",
    "    \n",
    "    Returns:\n",
    "        float: Probability that the email is spam\n",
    "    \"\"\"\n",
    "    # TODO: Implement the Naive Bayes prediction\n",
    "    # 1. Preprocess the email text\n",
    "    # 2. Calculate probability using the Naive Bayes formula\n",
    "\n",
    "    # Your code here\n",
    "\n",
    "    # HINT: Use the log of probabilities to avoid numerical underflow\n",
    "    # HINT: Remember to handle words not in the training data\n",
    "    pass"
   ]
  },
  {
   "cell_type": "code",
   "execution_count": null,
   "metadata": {},
   "outputs": [],
   "source": [
    "# Test your prediction function\n",
    "test_emails = [\n",
    "    \"lottery winner claim prize money\",\n",
    "    \"meeting tomorrow at 3pm\",\n",
    "    \"buy cheap watches online\"\n",
    "]"
   ]
  },
  {
   "cell_type": "markdown",
   "metadata": {},
   "source": [
    "## Step 6: Wrap-up\n",
    "1. How well did your model perform?\n",
    "2. What challenges did you face while implementing it from scratch?\n",
    "3. What improvements would you suggest for the future?"
   ]
  },
  {
   "cell_type": "markdown",
   "metadata": {},
   "source": [
    "### Notes (if any):"
   ]
  }
 ],
 "metadata": {
  "kernelspec": {
   "display_name": "Python 3 (ipykernel)",
   "language": "python",
   "name": "python3"
  },
  "language_info": {
   "codemirror_mode": {
    "name": "ipython",
    "version": 3
   },
   "file_extension": ".py",
   "mimetype": "text/x-python",
   "name": "python",
   "nbconvert_exporter": "python",
   "pygments_lexer": "ipython3",
   "version": "3.12.4"
  }
 },
 "nbformat": 4,
 "nbformat_minor": 4
}
